{
 "cells": [
  {
   "cell_type": "code",
   "execution_count": 1,
   "metadata": {
    "collapsed": false
   },
   "outputs": [
    {
     "name": "stdout",
     "output_type": "stream",
     "text": [
      "Populating the interactive namespace from numpy and matplotlib\n"
     ]
    }
   ],
   "source": [
    "%pylab inline"
   ]
  },
  {
   "cell_type": "code",
   "execution_count": 2,
   "metadata": {
    "collapsed": true
   },
   "outputs": [],
   "source": [
    "import sys"
   ]
  },
  {
   "cell_type": "code",
   "execution_count": 118,
   "metadata": {
    "collapsed": true
   },
   "outputs": [],
   "source": [
    "import shelve\n",
    "import re\n",
    "import nltk\n",
    "import operator"
   ]
  },
  {
   "cell_type": "code",
   "execution_count": 86,
   "metadata": {
    "collapsed": true
   },
   "outputs": [],
   "source": [
    "from nltk.corpus import gutenberg as gb\n",
    "from nltk.stem.porter import PorterStemmer"
   ]
  },
  {
   "cell_type": "code",
   "execution_count": null,
   "metadata": {
    "collapsed": false
   },
   "outputs": [],
   "source": []
  },
  {
   "cell_type": "code",
   "execution_count": 199,
   "metadata": {
    "collapsed": false
   },
   "outputs": [],
   "source": [
    "dt = open('npl_data/doc-text')\n",
    "raw_text = dt.read()\n",
    "dt.close()\n",
    "split_text = re.split('[0-9]+\\n',raw_text)"
   ]
  },
  {
   "cell_type": "code",
   "execution_count": 200,
   "metadata": {
    "collapsed": false
   },
   "outputs": [],
   "source": [
    "unwanted = set(nltk.corpus.stopwords.words(\"english\"))\n",
    "unwanted.update(list('!\"#$%&\\'()*+,-./:;<=>?@[\\\\]^_`{|}~£'))\n",
    "unwanted.update([\"''\"])\n",
    "unwanted.update([\"``\"])\n",
    "unwanted.update(['\"\"'])\n",
    "porter_stemmer = PorterStemmer()"
   ]
  },
  {
   "cell_type": "markdown",
   "metadata": {},
   "source": [
    "### Simple tf-idf"
   ]
  },
  {
   "cell_type": "code",
   "execution_count": 88,
   "metadata": {
    "collapsed": false
   },
   "outputs": [],
   "source": [
    "doc_terms = {}\n",
    "term_index = {}\n",
    "for k in range(1, len(split_text)):\n",
    "    raw_tokens = nltk.word_tokenize(split_text[k])\n",
    "    bigrams = nltk.bigrams(raw_tokens)\n",
    "    fd_bi = nltk.FreqDist( (w1.lower(),w2.lower()) for w1,w2 in bigrams\n",
    "        if not (w1.lower() in unwanted or w2.lower() in unwanted) )\n",
    "\n",
    "    norm_tokens = [porter_stemmer.stem(x.lower()) for x in raw_tokens if x.lower() not in unwanted]\n",
    "    doc_terms[k] = nltk.FreqDist(norm_tokens)\n",
    "    for t in set(norm_tokens):\n",
    "        if t.lower() not in term_index.keys():\n",
    "            term_index[t.lower()] = set([k])\n",
    "        else:\n",
    "            term_index[t.lower()].add(k)"
   ]
  },
  {
   "cell_type": "markdown",
   "metadata": {
    "collapsed": false
   },
   "source": [
    "### N-gram tf-idf"
   ]
  },
  {
   "cell_type": "code",
   "execution_count": 204,
   "metadata": {
    "collapsed": false
   },
   "outputs": [
    {
     "name": "stdout",
     "output_type": "stream",
     "text": [
      "compact memories have flexible capacities  a digital data storage\n",
      "system with capacity up to bits and random and or sequential access\n",
      "is described\n",
      "   /\n",
      "\n"
     ]
    }
   ],
   "source": [
    "print(split_text[1])"
   ]
  },
  {
   "cell_type": "code",
   "execution_count": 210,
   "metadata": {
    "collapsed": false
   },
   "outputs": [
    {
     "name": "stdout",
     "output_type": "stream",
     "text": [
      "('flexibl', 'capac')\n",
      "('compact', 'memori')\n",
      "('data', 'storag')\n",
      "('storag', 'system')\n",
      "('digit', 'data')\n",
      "('sequenti', 'access')\n"
     ]
    }
   ],
   "source": [
    "\n",
    "for i in fd_bi:\n",
    "    print(i)\n",
    "    if i not in a.keys():\n",
    "        a[i] = 1"
   ]
  },
  {
   "cell_type": "code",
   "execution_count": 211,
   "metadata": {
    "collapsed": false
   },
   "outputs": [
    {
     "name": "stdout",
     "output_type": "stream",
     "text": [
      "{('flexibl', 'capac'): 1, ('compact', 'memori'): 1, ('data', 'storag'): 1, ('storag', 'system'): 1, ('digit', 'data'): 1, ('sequenti', 'access'): 1}\n"
     ]
    }
   ],
   "source": [
    "print(a)"
   ]
  },
  {
   "cell_type": "code",
   "execution_count": 208,
   "metadata": {
    "collapsed": false
   },
   "outputs": [
    {
     "name": "stdout",
     "output_type": "stream",
     "text": [
      "[(('flexibl', 'capac'), 1), (('compact', 'memori'), 1), (('data', 'storag'), 1), (('storag', 'system'), 1), (('digit', 'data'), 1), (('sequenti', 'access'), 1)]\n"
     ]
    },
    {
     "data": {
      "image/png": "[encoded data removed]",
      "text/plain": [
       "<matplotlib.figure.Figure at 0x7f71233974a8>"
      ]
     },
     "metadata": {},
     "output_type": "display_data"
    }
   ],
   "source": [
    "raw_tokens = nltk.word_tokenize(split_text[1])\n",
    "bigrams = nltk.bigrams(raw_tokens)\n",
    "fd_bi = nltk.FreqDist((porter_stemmer.stem(w1.lower()),porter_stemmer.stem(w2.lower())) for w1,w2 in bigrams\n",
    "    if not (w1.lower() in unwanted or w2.lower() in unwanted) )\n"
   ]
  },
  {
   "cell_type": "code",
   "execution_count": 213,
   "metadata": {
    "collapsed": true
   },
   "outputs": [],
   "source": [
    "# N - gram TF_IDF\n",
    "bi_doc_terms = {}\n",
    "bi_term_index = {}\n",
    "for k in range(1, len(split_text)):\n",
    "    raw_tokens = nltk.word_tokenize(split_text[k])\n",
    "    bigrams = nltk.bigrams(raw_tokens)\n",
    "    bi_doc_terms[k] = nltk.FreqDist((porter_stemmer.stem(w1.lower()),porter_stemmer.stem(w2.lower())) \n",
    "                          for w1,w2 in bigrams\n",
    "                           if not (w1.lower() in unwanted or w2.lower() in unwanted) )\n",
    "    for t in bi_doc_terms[k]:\n",
    "        if t not in bi_term_index.keys():\n",
    "            bi_term_index[t] = set([k])\n",
    "        else:\n",
    "            bi_term_index[t].add(k)"
   ]
  },
  {
   "cell_type": "code",
   "execution_count": null,
   "metadata": {
    "collapsed": false
   },
   "outputs": [],
   "source": []
  },
  {
   "cell_type": "code",
   "execution_count": null,
   "metadata": {
    "collapsed": false
   },
   "outputs": [],
   "source": []
  },
  {
   "cell_type": "markdown",
   "metadata": {
    "collapsed": true
   },
   "source": [
    "### Search Queries Evaluation"
   ]
  },
  {
   "cell_type": "code",
   "execution_count": 232,
   "metadata": {
    "collapsed": false
   },
   "outputs": [
    {
     "name": "stdout",
     "output_type": "stream",
     "text": [
      "MEASUREMENT OF DIELECTRIC CONSTANT OF LIQUIDS BY THE USE OF MICROWAVE TECHNIQUES\n",
      "/\n",
      "\n"
     ]
    }
   ],
   "source": [
    "# Reading query dataset \n",
    "dt = open('npl_data/query-text')\n",
    "raw_text = dt.read()\n",
    "dt.close()\n",
    "q_text = re.split('[0-9]+\\n',raw_text)\n",
    "print(q_text[1])"
   ]
  },
  {
   "cell_type": "code",
   "execution_count": null,
   "metadata": {
    "collapsed": false
   },
   "outputs": [],
   "source": []
  },
  {
   "cell_type": "code",
   "execution_count": null,
   "metadata": {
    "collapsed": true
   },
   "outputs": [],
   "source": []
  },
  {
   "cell_type": "code",
   "execution_count": 446,
   "metadata": {
    "collapsed": false
   },
   "outputs": [],
   "source": [
    "# Calcualting tf-idf for a query\n",
    "def tfIdf_stem(split_text):\n",
    "    results = []\n",
    "    for q_id in range(len(split_text)):\n",
    "        # Get tokens \n",
    "        raw_tokens = nltk.word_tokenize(split_text[q_id])\n",
    "        # Filter stop words and use Porter stemmer\n",
    "        norm_tokens = [porter_stemmer.stem(x.lower()) for x in raw_tokens if x.lower() not in unwanted]\n",
    "        result = {}\n",
    "        for term in norm_tokens:\n",
    "            # Get idf\n",
    "            \n",
    "            if term not in term_index.keys():\n",
    "                idf = 0\n",
    "            else:\n",
    "                idf = log(len(doc_terms)/len(term_index[term]))\n",
    "                for t in term_index[term]:\n",
    "                    tf = doc_terms[t][term]\n",
    "                    if t not in result.keys():\n",
    "                        result[t] = tf*idf\n",
    "                    else:\n",
    "                        # To calcualte for all query \n",
    "                        result[t] += tf*idf\n",
    "            \n",
    "            \n",
    "        # Sort by tf-idf\n",
    "        norm_results = [key for (key,value) in sorted(result.items(), reverse=True, key=operator.itemgetter(1))]\n",
    "        tfidf_results = [value for (key,value) in sorted(result.items(), reverse=True, key=operator.itemgetter(1))]\n",
    "        results.append((norm_results, tfidf_results))\n",
    "    return results    "
   ]
  },
  {
   "cell_type": "code",
   "execution_count": 447,
   "metadata": {
    "collapsed": false
   },
   "outputs": [],
   "source": [
    "# Calculating bigram tf-idf for a query\n",
    "def bi_tfIdf_stem(split_text):\n",
    "    results = []\n",
    "    for q_id in range(len(split_text)):\n",
    "        # Get tokens \n",
    "        raw_tokens = nltk.word_tokenize(split_text[q_id])\n",
    "        # Filter stop words and use Porter stemmer\n",
    "        bigrams = nltk.bigrams(raw_tokens)\n",
    "        norm_bigrams = nltk.FreqDist((porter_stemmer.stem(w1.lower()),porter_stemmer.stem(w2.lower())) \n",
    "                          for w1,w2 in bigrams\n",
    "                           if not (w1.lower() in unwanted or w2.lower() in unwanted) )\n",
    "        result = {}\n",
    "        for term in norm_bigrams:\n",
    "            # Get idf\n",
    "            \n",
    "            if term not in bi_term_index.keys():\n",
    "                idf = 0\n",
    "            else:\n",
    "                idf = log(len(bi_doc_terms)/len(bi_term_index[term]))\n",
    "                for t in bi_term_index[term]:\n",
    "                    tf = bi_doc_terms[t][term]\n",
    "                    if t not in result.keys():\n",
    "                        result[t] = tf*idf\n",
    "                    else:\n",
    "                        # To calcualte for all query \n",
    "                        result[t] += tf*idf\n",
    "            \n",
    "            \n",
    "        # Sort by tf-idf\n",
    "        norm_results = [key for (key,value) in sorted(result.items(), reverse=True, key=operator.itemgetter(1))]\n",
    "        tfidf_results = [value for (key,value) in sorted(result.items(), reverse=True, key=operator.itemgetter(1))]\n",
    "        results.append((norm_results, tfidf_results))\n",
    "    return results    "
   ]
  },
  {
   "cell_type": "code",
   "execution_count": null,
   "metadata": {
    "collapsed": false
   },
   "outputs": [],
   "source": []
  },
  {
   "cell_type": "code",
   "execution_count": 543,
   "metadata": {
    "collapsed": false
   },
   "outputs": [],
   "source": [
    "query_result = tfIdf_stem(q_text)\n"
   ]
  },
  {
   "cell_type": "code",
   "execution_count": 544,
   "metadata": {
    "collapsed": false
   },
   "outputs": [],
   "source": [
    "bi_query_result = bi_tfIdf_stem(q_text)"
   ]
  },
  {
   "cell_type": "code",
   "execution_count": null,
   "metadata": {
    "collapsed": false
   },
   "outputs": [],
   "source": []
  },
  {
   "cell_type": "code",
   "execution_count": 450,
   "metadata": {
    "collapsed": false
   },
   "outputs": [],
   "source": [
    "com_res = []\n",
    "for i in range(len(q_text)):\n",
    "    fin_result = {} \n",
    "    for k in range(len(bi_query_result[i][0])):\n",
    "            key1 = bi_query_result[i][0][k]\n",
    "            fin_result[key1] = bi_query_result[i][1][k]\n",
    "\n",
    "    for k in range(len(query_result[i][0])):\n",
    "            key1 = query_result[i][0][k]\n",
    "            if key1 not in fin_result.keys():\n",
    "                fin_result[key1] = query_result[i][1][k]\n",
    "            else:\n",
    "                fin_result[key1]+= query_result[i][1][k]\n",
    "\n",
    "    combo_results = [key for (key,value) in sorted(fin_result.items(), reverse=True, key=operator.itemgetter(1))]\n",
    "    com_res.append(combo_results)"
   ]
  },
  {
   "cell_type": "code",
   "execution_count": 451,
   "metadata": {
    "collapsed": true
   },
   "outputs": [],
   "source": [
    "bi_res = []\n",
    "qu_res = []\n",
    "\n",
    "for i_num in range(len(q_text)):\n",
    "    b_res = [i for i in bi_query_result[i_num][0]]\n",
    "    bi_res.append(b_res)\n",
    "    q_res = [i for i in query_result[i_num][0]]\n",
    "    qu_res.append(q_res)"
   ]
  },
  {
   "cell_type": "code",
   "execution_count": 452,
   "metadata": {
    "collapsed": true
   },
   "outputs": [],
   "source": [
    "def read_npl_eval():\n",
    "    results = []\n",
    "    dt = open('npl_data/rlv-ass')\n",
    "    raw_text = dt.read()\n",
    "    dt.close()\n",
    "    s1 = re.split('\\n', raw_text)\n",
    "    indx = 0\n",
    "    current_query = int(s1[indx])\n",
    "    indx+=1\n",
    "    query_docs = []\n",
    "    while indx < len(s1):\n",
    "        if '/' in s1[indx]:\n",
    "        #BreakPoint\n",
    "            indx+=1\n",
    "            results.append(query_docs)\n",
    "            query_docs = []\n",
    "            continue\n",
    "        s2 = s1[indx].split()\n",
    "        for i in s2:\n",
    "            query_docs.append(int(i))\n",
    "        indx+=1\n",
    "    return results"
   ]
  },
  {
   "cell_type": "code",
   "execution_count": 453,
   "metadata": {
    "collapsed": false
   },
   "outputs": [],
   "source": [
    "ground_true = read_npl_eval()"
   ]
  },
  {
   "cell_type": "code",
   "execution_count": null,
   "metadata": {
    "collapsed": false
   },
   "outputs": [],
   "source": []
  },
  {
   "cell_type": "code",
   "execution_count": 534,
   "metadata": {
    "collapsed": false
   },
   "outputs": [],
   "source": [
    "def simple_score(query_result, ground_true):\n",
    "    scores = []\n",
    "    for i in range(len(ground_true)):\n",
    "        inter = set(ground_true[i]) & set(query_result[i+1][:len(ground_true)])\n",
    "        prec = len(inter)/len(ground_true[i])\n",
    "        scores.append(prec)\n",
    "    return scores\n",
    "        "
   ]
  },
  {
   "cell_type": "code",
   "execution_count": 529,
   "metadata": {
    "collapsed": true
   },
   "outputs": [],
   "source": [
    "def all_score(query_result, ground_true, fraction):\n",
    "    f_scores = []\n",
    "    for i in range(len(ground_true)):\n",
    "        frac = int(fraction*len(query_result[i+1]))\n",
    "        inter = set(ground_true[i]) & set(query_result[i+1][:frac])\n",
    "        prec = len(inter)/len(query_result[i+1][:frac]) # precision \n",
    "        #print(\"Precision \" + str(prec))\n",
    "        recall = len(inter)/len(ground_true[i])\n",
    "        #print(\"Recall \" + str(recall))\n",
    "        if prec+recall == 0: \n",
    "            F1_score = 0\n",
    "        else:\n",
    "            F1_score = 2*(prec*recall)/(prec+recall)\n",
    "        f_scores.append(F1_score)\n",
    "    return f_scores\n",
    "    "
   ]
  },
  {
   "cell_type": "code",
   "execution_count": 547,
   "metadata": {
    "collapsed": false
   },
   "outputs": [
    {
     "data": {
      "text/plain": [
       "0.45965402923852461"
      ]
     },
     "execution_count": 547,
     "metadata": {},
     "output_type": "execute_result"
    }
   ],
   "source": [
    "np.mean(simple_score(com_res, ground_true))"
   ]
  },
  {
   "cell_type": "code",
   "execution_count": 540,
   "metadata": {
    "collapsed": false
   },
   "outputs": [
    {
     "name": "stdout",
     "output_type": "stream",
     "text": [
      "Maximum F-score is 0.183543670708\n",
      "Best fraction to release 0.015\n"
     ]
    }
   ],
   "source": [
    "# Simple GridSearch\n",
    "\n",
    "max_val = 0.0\n",
    "max_index = 0\n",
    "grid_max = 200\n",
    "\n",
    "for i in range(1,grid_max):\n",
    "        f_scores = all_score(com_res, ground_true, i/grid_max)\n",
    "        new_val = np.mean(f_scores)\n",
    "        if new_val > max_val:\n",
    "            max_val = new_val\n",
    "            max_index = i\n",
    "print(\"Maximum F-score is \" + str(max_val))\n",
    "print(\"Best fraction to release \" + str(max_index/grid_max))\n",
    "        \n",
    "        \n"
   ]
  },
  {
   "cell_type": "markdown",
   "metadata": {},
   "source": [
    "### Conclusion and notes"
   ]
  },
  {
   "cell_type": "markdown",
   "metadata": {},
   "source": [
    "The best result showed a combination of bi-gram tf-idf and simple tf-idf. \n",
    "\n",
    "Although, the difference between simple tf-idf and combination is not really sufficient  (0.442 vs 0.459)\n",
    "\n",
    "\n"
   ]
  },
  {
   "cell_type": "markdown",
   "metadata": {},
   "source": [
    "One interesting observation: \n",
    " "
   ]
  },
  {
   "cell_type": "code",
   "execution_count": 553,
   "metadata": {
    "collapsed": false
   },
   "outputs": [
    {
     "data": {
      "text/plain": [
       "'MEASUREMENT OF DIELECTRIC CONSTANT OF LIQUIDS BY THE USE OF MICROWAVE TECHNIQUES\\n/\\n'"
      ]
     },
     "execution_count": 553,
     "metadata": {},
     "output_type": "execute_result"
    }
   ],
   "source": [
    "q_text[1]  # Original query"
   ]
  },
  {
   "cell_type": "code",
   "execution_count": 551,
   "metadata": {
    "collapsed": false
   },
   "outputs": [
    {
     "data": {
      "text/plain": [
       "[1239,\n",
       " 1502,\n",
       " 4462,\n",
       " 4569,\n",
       " 5472,\n",
       " 5502,\n",
       " 6471,\n",
       " 6480,\n",
       " 6664,\n",
       " 6824,\n",
       " 7923,\n",
       " 8150,\n",
       " 8172,\n",
       " 8277,\n",
       " 9219,\n",
       " 9859,\n",
       " 9988,\n",
       " 10081,\n",
       " 10588]"
      ]
     },
     "execution_count": 551,
     "metadata": {},
     "output_type": "execute_result"
    }
   ],
   "source": [
    "ground_true[0] # Ground true docs "
   ]
  },
  {
   "cell_type": "markdown",
   "metadata": {},
   "source": [
    "Example doc 1239: \n",
    "broadband millimetre wave paramagnetic resonance spectrometer  the\n",
    "specimen and waveguide which can be cooled by means of a cryostat\n",
    "are placed between close pole pieces giving high uniform magnetic\n",
    "fields  design details and some measurements on zero field splittings\n",
    "are given"
   ]
  },
  {
   "cell_type": "code",
   "execution_count": 557,
   "metadata": {
    "collapsed": false
   },
   "outputs": [
    {
     "data": {
      "text/plain": [
       "[3693,\n",
       " 5502,\n",
       " 7234,\n",
       " 2236,\n",
       " 1756,\n",
       " 3994,\n",
       " 11212,\n",
       " 7734,\n",
       " 1879,\n",
       " 9859,\n",
       " 7941,\n",
       " 5039,\n",
       " 8259,\n",
       " 444,\n",
       " 7923,\n",
       " 7735,\n",
       " 4569,\n",
       " 4533,\n",
       " 4571]"
      ]
     },
     "execution_count": 557,
     "metadata": {},
     "output_type": "execute_result"
    }
   ],
   "source": [
    "com_res[1][:19]"
   ]
  },
  {
   "cell_type": "markdown",
   "metadata": {},
   "source": [
    "Example 3693:\n",
    "electron interaction in solids  collective approach to the dielectric\n",
    "constant  a quantum theory of the dielectric constant for solids\n",
    "of both low and high polarizability is developed from first principles\n",
    "in the latter case the approach used is collective in that the long\n",
    "range part of the electron interaction is described by the plasmon\n",
    "field  both the static and frequency dependent dielectric constant\n",
    "are derived  it is shown that the interaction between electrons may\n",
    "be described in terms of the dielectric constant of the solid provided\n",
    "the electrons in question form a small minority group which can be\n",
    "isolated from the much larger majority electron group"
   ]
  },
  {
   "cell_type": "markdown",
   "metadata": {},
   "source": [
    "** Example 3693  contains the highest number of releavant to the query, i.e  dielectric constant is presented 4 times. But the example is irrelevant in general. **\n"
   ]
  },
  {
   "cell_type": "code",
   "execution_count": null,
   "metadata": {
    "collapsed": true
   },
   "outputs": [],
   "source": []
  }
 ],
 "metadata": {
  "kernelspec": {
   "display_name": "Python 3",
   "language": "python",
   "name": "python3"
  },
  "language_info": {
   "codemirror_mode": {
    "name": "ipython",
    "version": 3
   },
   "file_extension": ".py",
   "mimetype": "text/x-python",
   "name": "python",
   "nbconvert_exporter": "python",
   "pygments_lexer": "ipython3",
   "version": "3.5.2"
  }
 },
 "nbformat": 4,
 "nbformat_minor": 1
}
